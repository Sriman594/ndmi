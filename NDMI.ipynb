{
 "cells": [
  {
   "cell_type": "code",
   "execution_count": 25,
   "metadata": {},
   "outputs": [],
   "source": [
    "import boto3\n",
    "from botocore import UNSIGNED\n",
    "from botocore.config import Config\n",
    "from botocore.exceptions import NoCredentialsError\n",
    "import geopandas as gpd\n",
    "import rasterio\n",
    "from rasterio.mask import mask\n",
    "import numpy as np\n",
    "import matplotlib.pyplot as plt\n",
    "from shapely.geometry import mapping\n",
    "from datetime import datetime, timedelta"
   ]
  },
  {
   "cell_type": "code",
   "execution_count": 26,
   "metadata": {},
   "outputs": [],
   "source": [
    "# Create an unsigned S3 client\n",
    "s3_client = boto3.client('s3', config=Config(signature_version=UNSIGNED))\n",
    "bucket_name = \"sentinel-cogs\"\n",
    "response = s3_client.list_objects_v2(Bucket='sentinel-cogs', Prefix='sentinel-s2-l2a-cogs/2024-01-01')\n",
    "for obj in response.get('Contents', []):\n",
    "    print(obj['Key'])"
   ]
  },
  {
   "cell_type": "code",
   "execution_count": 27,
   "metadata": {},
   "outputs": [],
   "source": [
    "# Function to find Sentinel-2 imagery based on date and fallback to latest if not available\n",
    "def find_sentinel_image(input_date):\n",
    "    prefix = f\"sentinel-s2-l2a-cogs/{input_date[:4]}/{input_date[5:7]}/{input_date[8:10]}/\"\n",
    "    response = s3_client.list_objects_v2(Bucket=bucket_name, Prefix=prefix)\n",
    "\n",
    "    # If data exists for the requested date\n",
    "    if 'Contents' in response:\n",
    "        for obj in response['Contents']:\n",
    "            if obj['Key'].endswith('B08.tif'):  # Look for Band 8 (NIR)\n",
    "                return obj['Key']\n",
    "\n",
    "    # Fallback to latest available image\n",
    "    print(f\"No data found for {input_date}. Searching for the latest available image.\")\n",
    "    response = s3_client.list_objects_v2(Bucket=bucket_name, Prefix=\"sentinel-s2-l2a-cogs/\")\n",
    "    if 'Contents' in response:\n",
    "        for obj in response['Contents']:\n",
    "            if obj['Key'].endswith('B08.tif'):\n",
    "                return obj['Key']\n",
    "\n",
    "    return None"
   ]
  },
  {
   "cell_type": "code",
   "execution_count": 28,
   "metadata": {},
   "outputs": [],
   "source": [
    "# Function to download Sentinel-2 imagery\n",
    "def download_image(key, file_path):\n",
    "    try:\n",
    "        s3_client.download_file(bucket_name, key, file_path)\n",
    "    except NoCredentialsError:\n",
    "        raise Exception(\"AWS credentials not found. Ensure they are correctly configured.\")\n"
   ]
  },
  {
   "cell_type": "code",
   "execution_count": 29,
   "metadata": {},
   "outputs": [],
   "source": [
    "# Function to calculate NDMI\n",
    "def calculate_ndmi(nir_path, swir_path, aoi_polygon):\n",
    "    with rasterio.open(nir_path) as nir_src, rasterio.open(swir_path) as swir_src:\n",
    "        # Mask and read the NIR band\n",
    "        nir_data, nir_transform = mask(nir_src, [mapping(aoi_polygon)], crop=True)\n",
    "        nir_data = nir_data[0].astype('float32')\n",
    "\n",
    "        # Mask and read the SWIR band\n",
    "        swir_data, swir_transform = mask(swir_src, [mapping(aoi_polygon)], crop=True)\n",
    "        swir_data = swir_data[0].astype('float32')\n",
    "\n",
    "        # Calculate NDMI\n",
    "        ndmi = (nir_data - swir_data) / (nir_data + swir_data)\n",
    "\n",
    "        # Compute mean NDMI value\n",
    "        mean_ndmi = np.nanmean(ndmi)\n",
    "\n",
    "        return ndmi, mean_ndmi"
   ]
  },
  {
   "cell_type": "code",
   "execution_count": 30,
   "metadata": {},
   "outputs": [],
   "source": [
    "# Function to save NDMI image as PNG\n",
    "def save_ndmi_image(ndmi, output_path):\n",
    "    plt.figure(figsize=(10, 10))\n",
    "    plt.imshow(ndmi, cmap='RdYlGn', vmin=-1, vmax=1)\n",
    "    plt.colorbar(label=\"NDMI\")\n",
    "    plt.title(\"Normalized Difference Moisture Index (NDMI)\")\n",
    "    plt.axis('off')\n",
    "    plt.savefig(output_path, bbox_inches='tight')\n",
    "    plt.close()"
   ]
  },
  {
   "cell_type": "code",
   "execution_count": 31,
   "metadata": {},
   "outputs": [],
   "source": [
    "def calculate_ndmi(nir_path, swir_path, aoi_polygon):\n",
    "    with rasterio.open(nir_path) as nir_src, rasterio.open(swir_path) as swir_src:\n",
    "        # Reproject AOI polygon to match raster CRS\n",
    "        raster_crs = nir_src.crs\n",
    "        if farm_polygon.crs != raster_crs:\n",
    "            farm_polygon = farm_polygon.to_crs(raster_crs)\n",
    "\n",
    "        # Check if AOI overlaps with raster bounds\n",
    "        if not farm_polygon.intersects_box(*nir_src.bounds):\n",
    "            raise ValueError(\"AOI polygon does not overlap with the raster extent.\")\n",
    "\n",
    "        # Mask and read the NIR band\n",
    "        nir_data, _ = mask(nir_src, [mapping(aoi_polygon)], crop=True)\n",
    "        nir_data = nir_data[0].astype('float32')\n",
    "\n",
    "        # Mask and read the SWIR band\n",
    "        swir_data, _ = mask(swir_src, [mapping(aoi_polygon)], crop=True)\n",
    "        swir_data = swir_data[0].astype('float32')\n",
    "\n",
    "        # Calculate NDMI\n",
    "        ndmi = (nir_data - swir_data) / (nir_data + swir_data)\n",
    "\n",
    "        # Compute mean NDMI value\n",
    "        mean_ndmi = np.nanmean(ndmi)\n",
    "\n",
    "        return ndmi, mean_ndmi\n"
   ]
  },
  {
   "cell_type": "code",
   "execution_count": 32,
   "metadata": {},
   "outputs": [
    {
     "ename": "RasterioIOError",
     "evalue": "'D:/IIST-MTECH/CaseStudy_VL/map.geojson' not recognized as a supported file format.",
     "output_type": "error",
     "traceback": [
      "\u001b[1;31m---------------------------------------------------------------------------\u001b[0m",
      "\u001b[1;31mCPLE_OpenFailedError\u001b[0m                      Traceback (most recent call last)",
      "File \u001b[1;32mrasterio\\_base.pyx:308\u001b[0m, in \u001b[0;36mrasterio._base.DatasetBase.__init__\u001b[1;34m()\u001b[0m\n",
      "File \u001b[1;32mrasterio\\_base.pyx:219\u001b[0m, in \u001b[0;36mrasterio._base.open_dataset\u001b[1;34m()\u001b[0m\n",
      "File \u001b[1;32mrasterio\\_err.pyx:221\u001b[0m, in \u001b[0;36mrasterio._err.exc_wrap_pointer\u001b[1;34m()\u001b[0m\n",
      "\u001b[1;31mCPLE_OpenFailedError\u001b[0m: 'D:/IIST-MTECH/CaseStudy_VL/map.geojson' not recognized as a supported file format.",
      "\nDuring handling of the above exception, another exception occurred:\n",
      "\u001b[1;31mRasterioIOError\u001b[0m                           Traceback (most recent call last)",
      "Cell \u001b[1;32mIn [32], line 7\u001b[0m\n\u001b[0;32m      4\u001b[0m input_date \u001b[38;5;241m=\u001b[39m \u001b[38;5;124m\"\u001b[39m\u001b[38;5;124m2022-10-10\u001b[39m\u001b[38;5;124m\"\u001b[39m  \u001b[38;5;66;03m# Desired date (YYYY-MM-DD)\u001b[39;00m\n\u001b[0;32m      5\u001b[0m output_image_path \u001b[38;5;241m=\u001b[39m \u001b[38;5;124m\"\u001b[39m\u001b[38;5;124mndmi_output.png\u001b[39m\u001b[38;5;124m\"\u001b[39m\n\u001b[1;32m----> 7\u001b[0m mean_ndmi, result \u001b[38;5;241m=\u001b[39m \u001b[43mcalculate_ndmi\u001b[49m\u001b[43m(\u001b[49m\u001b[43mfarm_polygon_path\u001b[49m\u001b[43m,\u001b[49m\u001b[43m \u001b[49m\u001b[43minput_date\u001b[49m\u001b[43m,\u001b[49m\u001b[43m \u001b[49m\u001b[43moutput_image_path\u001b[49m\u001b[43m)\u001b[49m\n\u001b[0;32m      9\u001b[0m \u001b[38;5;28;01mif\u001b[39;00m mean_ndmi \u001b[38;5;129;01mis\u001b[39;00m \u001b[38;5;129;01mnot\u001b[39;00m \u001b[38;5;28;01mNone\u001b[39;00m:\n\u001b[0;32m     10\u001b[0m     \u001b[38;5;28mprint\u001b[39m(\u001b[38;5;124mf\u001b[39m\u001b[38;5;124m\"\u001b[39m\u001b[38;5;124mNDMI image saved at \u001b[39m\u001b[38;5;132;01m{\u001b[39;00mresult\u001b[38;5;132;01m}\u001b[39;00m\u001b[38;5;124m. Mean NDMI value: \u001b[39m\u001b[38;5;132;01m{\u001b[39;00mmean_ndmi\u001b[38;5;132;01m}\u001b[39;00m\u001b[38;5;124m\"\u001b[39m)\n",
      "Cell \u001b[1;32mIn [31], line 2\u001b[0m, in \u001b[0;36mcalculate_ndmi\u001b[1;34m(nir_path, swir_path, aoi_polygon)\u001b[0m\n\u001b[0;32m      1\u001b[0m \u001b[38;5;28;01mdef\u001b[39;00m \u001b[38;5;21mcalculate_ndmi\u001b[39m(nir_path, swir_path, aoi_polygon):\n\u001b[1;32m----> 2\u001b[0m     \u001b[38;5;28;01mwith\u001b[39;00m \u001b[43mrasterio\u001b[49m\u001b[38;5;241;43m.\u001b[39;49m\u001b[43mopen\u001b[49m\u001b[43m(\u001b[49m\u001b[43mnir_path\u001b[49m\u001b[43m)\u001b[49m \u001b[38;5;28;01mas\u001b[39;00m nir_src, rasterio\u001b[38;5;241m.\u001b[39mopen(swir_path) \u001b[38;5;28;01mas\u001b[39;00m swir_src:\n\u001b[0;32m      3\u001b[0m         \u001b[38;5;66;03m# Reproject AOI polygon to match raster CRS\u001b[39;00m\n\u001b[0;32m      4\u001b[0m         raster_crs \u001b[38;5;241m=\u001b[39m nir_src\u001b[38;5;241m.\u001b[39mcrs\n\u001b[0;32m      5\u001b[0m         \u001b[38;5;28;01mif\u001b[39;00m farm_polygon\u001b[38;5;241m.\u001b[39mcrs \u001b[38;5;241m!=\u001b[39m raster_crs:\n",
      "File \u001b[1;32mc:\\Users\\sriman\\AppData\\Local\\Programs\\Python\\Python310\\lib\\site-packages\\rasterio\\env.py:451\u001b[0m, in \u001b[0;36mensure_env_with_credentials.<locals>.wrapper\u001b[1;34m(*args, **kwds)\u001b[0m\n\u001b[0;32m    448\u001b[0m     session \u001b[38;5;241m=\u001b[39m DummySession()\n\u001b[0;32m    450\u001b[0m \u001b[38;5;28;01mwith\u001b[39;00m env_ctor(session\u001b[38;5;241m=\u001b[39msession):\n\u001b[1;32m--> 451\u001b[0m     \u001b[38;5;28;01mreturn\u001b[39;00m f(\u001b[38;5;241m*\u001b[39margs, \u001b[38;5;241m*\u001b[39m\u001b[38;5;241m*\u001b[39mkwds)\n",
      "File \u001b[1;32mc:\\Users\\sriman\\AppData\\Local\\Programs\\Python\\Python310\\lib\\site-packages\\rasterio\\__init__.py:321\u001b[0m, in \u001b[0;36mopen\u001b[1;34m(fp, mode, driver, width, height, count, crs, transform, dtype, nodata, sharing, **kwargs)\u001b[0m\n\u001b[0;32m    318\u001b[0m path \u001b[38;5;241m=\u001b[39m _parse_path(raw_dataset_path)\n\u001b[0;32m    320\u001b[0m \u001b[38;5;28;01mif\u001b[39;00m mode \u001b[38;5;241m==\u001b[39m \u001b[38;5;124m\"\u001b[39m\u001b[38;5;124mr\u001b[39m\u001b[38;5;124m\"\u001b[39m:\n\u001b[1;32m--> 321\u001b[0m     dataset \u001b[38;5;241m=\u001b[39m DatasetReader(path, driver\u001b[38;5;241m=\u001b[39mdriver, sharing\u001b[38;5;241m=\u001b[39msharing, \u001b[38;5;241m*\u001b[39m\u001b[38;5;241m*\u001b[39mkwargs)\n\u001b[0;32m    322\u001b[0m \u001b[38;5;28;01melif\u001b[39;00m mode \u001b[38;5;241m==\u001b[39m \u001b[38;5;124m\"\u001b[39m\u001b[38;5;124mr+\u001b[39m\u001b[38;5;124m\"\u001b[39m:\n\u001b[0;32m    323\u001b[0m     dataset \u001b[38;5;241m=\u001b[39m get_writer_for_path(path, driver\u001b[38;5;241m=\u001b[39mdriver)(\n\u001b[0;32m    324\u001b[0m         path, mode, driver\u001b[38;5;241m=\u001b[39mdriver, sharing\u001b[38;5;241m=\u001b[39msharing, \u001b[38;5;241m*\u001b[39m\u001b[38;5;241m*\u001b[39mkwargs\n\u001b[0;32m    325\u001b[0m     )\n",
      "File \u001b[1;32mrasterio\\_base.pyx:310\u001b[0m, in \u001b[0;36mrasterio._base.DatasetBase.__init__\u001b[1;34m()\u001b[0m\n",
      "\u001b[1;31mRasterioIOError\u001b[0m: 'D:/IIST-MTECH/CaseStudy_VL/map.geojson' not recognized as a supported file format."
     ]
    }
   ],
   "source": [
    "# Example usage\n",
    "if __name__ == \"__main__\":\n",
    "    farm_polygon_path = \"D:\\IIST-MTECH\\CaseStudy_VL\\map.geojson\"  # Replace with your actual file path\n",
    "    input_date = \"2022-10-10\"  # Desired date (YYYY-MM-DD)\n",
    "    output_image_path = \"ndmi_output.png\"\n",
    "\n",
    "    mean_ndmi, result = calculate_ndmi(farm_polygon_path, input_date, output_image_path)\n",
    "\n",
    "    if mean_ndmi is not None:\n",
    "        print(f\"NDMI image saved at {result}. Mean NDMI value: {mean_ndmi}\")\n",
    "    else:\n",
    "        print(f\"Error: {result}\")\n"
   ]
  },
  {
   "cell_type": "code",
   "execution_count": null,
   "metadata": {},
   "outputs": [],
   "source": []
  }
 ],
 "metadata": {
  "kernelspec": {
   "display_name": "Python 3",
   "language": "python",
   "name": "python3"
  },
  "language_info": {
   "codemirror_mode": {
    "name": "ipython",
    "version": 3
   },
   "file_extension": ".py",
   "mimetype": "text/x-python",
   "name": "python",
   "nbconvert_exporter": "python",
   "pygments_lexer": "ipython3",
   "version": "3.10.10"
  }
 },
 "nbformat": 4,
 "nbformat_minor": 2
}
