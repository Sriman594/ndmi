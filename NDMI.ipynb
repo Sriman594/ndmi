{
 "cells": [
  {
   "cell_type": "code",
   "execution_count": 12,
   "metadata": {},
   "outputs": [],
   "source": [
    "import boto3\n",
    "from botocore import UNSIGNED\n",
    "from botocore.config import Config\n",
    "from botocore.exceptions import NoCredentialsError\n",
    "import geopandas as gpd\n",
    "import rasterio\n",
    "from rasterio.mask import mask\n",
    "import numpy as np\n",
    "import matplotlib.pyplot as plt\n",
    "from shapely.geometry import mapping\n",
    "from datetime import datetime, timedelta"
   ]
  },
  {
   "cell_type": "code",
   "execution_count": 14,
   "metadata": {},
   "outputs": [],
   "source": [
    "# Create an unsigned S3 client\n",
    "s3_client = boto3.client('s3', config=Config(signature_version=UNSIGNED))\n",
    "response = s3_client.list_objects_v2(Bucket='sentinel-cogs', Prefix='sentinel-s2-l2a-cogs/2023/12/01/')\n",
    "for obj in response.get('Contents', []):\n",
    "    print(obj['Key'])"
   ]
  },
  {
   "cell_type": "code",
   "execution_count": 15,
   "metadata": {},
   "outputs": [],
   "source": [
    "# Function to find Sentinel-2 imagery based on date and fallback to latest if not available\n",
    "def find_sentinel_image(input_date):\n",
    "    prefix = f\"sentinel-s2-l2a-cogs/{input_date[:4]}/{input_date[5:7]}/{input_date[8:10]}/\"\n",
    "    response = s3_client.list_objects_v2(Bucket=bucket_name, Prefix=prefix)\n",
    "\n",
    "    # If data exists for the requested date\n",
    "    if 'Contents' in response:\n",
    "        for obj in response['Contents']:\n",
    "            if obj['Key'].endswith('B08.tif'):  # Look for Band 8 (NIR)\n",
    "                return obj['Key']\n",
    "\n",
    "    # Fallback to latest available image\n",
    "    print(f\"No data found for {input_date}. Searching for the latest available image.\")\n",
    "    response = s3_client.list_objects_v2(Bucket=bucket_name, Prefix=\"sentinel-s2-l2a-cogs/\")\n",
    "    if 'Contents' in response:\n",
    "        for obj in response['Contents']:\n",
    "            if obj['Key'].endswith('B08.tif'):\n",
    "                return obj['Key']\n",
    "\n",
    "    return None"
   ]
  },
  {
   "cell_type": "code",
   "execution_count": 16,
   "metadata": {},
   "outputs": [],
   "source": [
    "# Function to download Sentinel-2 imagery\n",
    "def download_image(key, file_path):\n",
    "    try:\n",
    "        s3_client.download_file(bucket_name, key, file_path)\n",
    "    except NoCredentialsError:\n",
    "        raise Exception(\"AWS credentials not found. Ensure they are correctly configured.\")\n"
   ]
  },
  {
   "cell_type": "code",
   "execution_count": 17,
   "metadata": {},
   "outputs": [],
   "source": [
    "# Function to calculate NDMI\n",
    "def calculate_ndmi(nir_path, swir_path, aoi_polygon):\n",
    "    with rasterio.open(nir_path) as nir_src, rasterio.open(swir_path) as swir_src:\n",
    "        # Mask and read the NIR band\n",
    "        nir_data, nir_transform = mask(nir_src, [mapping(aoi_polygon)], crop=True)\n",
    "        nir_data = nir_data[0].astype('float32')\n",
    "\n",
    "        # Mask and read the SWIR band\n",
    "        swir_data, swir_transform = mask(swir_src, [mapping(aoi_polygon)], crop=True)\n",
    "        swir_data = swir_data[0].astype('float32')\n",
    "\n",
    "        # Calculate NDMI\n",
    "        ndmi = (nir_data - swir_data) / (nir_data + swir_data)\n",
    "\n",
    "        # Compute mean NDMI value\n",
    "        mean_ndmi = np.nanmean(ndmi)\n",
    "\n",
    "        return ndmi, mean_ndmi"
   ]
  },
  {
   "cell_type": "code",
   "execution_count": 18,
   "metadata": {},
   "outputs": [],
   "source": [
    "# Function to save NDMI image as PNG\n",
    "def save_ndmi_image(ndmi, output_path):\n",
    "    plt.figure(figsize=(10, 10))\n",
    "    plt.imshow(ndmi, cmap='RdYlGn', vmin=-1, vmax=1)\n",
    "    plt.colorbar(label=\"NDMI\")\n",
    "    plt.title(\"Normalized Difference Moisture Index (NDMI)\")\n",
    "    plt.axis('off')\n",
    "    plt.savefig(output_path, bbox_inches='tight')\n",
    "    plt.close()"
   ]
  },
  {
   "cell_type": "code",
   "execution_count": 19,
   "metadata": {},
   "outputs": [],
   "source": [
    "# Main NDMI pipeline function\n",
    "def ndmi_pipeline(farm_polygon_path, input_date, output_image_path):\n",
    "    try:\n",
    "        # Load farm polygon\n",
    "        farm_polygon = gpd.read_file(farm_polygon_path)\n",
    "        aoi_polygon = farm_polygon.geometry[0]\n",
    "\n",
    "        # Find NIR and SWIR image keys\n",
    "        nir_key = find_sentinel_image(input_date)\n",
    "        if not nir_key:\n",
    "            return None, \"No suitable Sentinel-2 imagery found.\"\n",
    "\n",
    "        swir_key = nir_key.replace('B08', 'B11')  # Replace NIR with SWIR\n",
    "\n",
    "        # Download images\n",
    "        nir_path = \"nir.tif\"\n",
    "        swir_path = \"swir.tif\"\n",
    "        download_image(nir_key, nir_path)\n",
    "        download_image(swir_key, swir_path)\n",
    "\n",
    "        # Calculate NDMI\n",
    "        ndmi, mean_ndmi = calculate_ndmi(nir_path, swir_path, aoi_polygon)\n",
    "\n",
    "        # Save NDMI image\n",
    "        save_ndmi_image(ndmi, output_image_path)\n",
    "\n",
    "        return mean_ndmi, output_image_path\n",
    "\n",
    "    except Exception as e:\n",
    "        return None, str(e)"
   ]
  },
  {
   "cell_type": "code",
   "execution_count": 21,
   "metadata": {},
   "outputs": [
    {
     "name": "stdout",
     "output_type": "stream",
     "text": [
      "No data found for 2022-10-10. Searching for the latest available image.\n",
      "Error: Input shapes do not overlap raster.\n"
     ]
    }
   ],
   "source": [
    "# Example usage\n",
    "if __name__ == \"__main__\":\n",
    "    farm_polygon_path = \"D:\\IIST-MTECH\\CaseStudy_VL\\map.geojson\"  # Replace with your actual file path\n",
    "    input_date = \"2022-10-10\"  # Desired date (YYYY-MM-DD)\n",
    "    output_image_path = \"ndmi_output.png\"\n",
    "\n",
    "    mean_ndmi, result = ndmi_pipeline(farm_polygon_path, input_date, output_image_path)\n",
    "\n",
    "    if mean_ndmi is not None:\n",
    "        print(f\"NDMI image saved at {result}. Mean NDMI value: {mean_ndmi}\")\n",
    "    else:\n",
    "        print(f\"Error: {result}\")\n"
   ]
  },
  {
   "cell_type": "code",
   "execution_count": null,
   "metadata": {},
   "outputs": [],
   "source": []
  }
 ],
 "metadata": {
  "kernelspec": {
   "display_name": "Python 3",
   "language": "python",
   "name": "python3"
  },
  "language_info": {
   "codemirror_mode": {
    "name": "ipython",
    "version": 3
   },
   "file_extension": ".py",
   "mimetype": "text/x-python",
   "name": "python",
   "nbconvert_exporter": "python",
   "pygments_lexer": "ipython3",
   "version": "3.10.10"
  }
 },
 "nbformat": 4,
 "nbformat_minor": 2
}
